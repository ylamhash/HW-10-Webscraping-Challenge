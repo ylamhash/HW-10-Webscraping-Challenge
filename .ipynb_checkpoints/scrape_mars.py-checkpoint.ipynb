{
 "cells": [
  {
   "cell_type": "markdown",
   "metadata": {},
   "source": [
    "# Mission to Mars | Step 2 | MongoDB and Flask Application"
   ]
  },
  {
   "cell_type": "markdown",
   "metadata": {},
   "source": [
    "### Import Dependencies"
   ]
  },
  {
   "cell_type": "code",
   "execution_count": null,
   "metadata": {},
   "outputs": [],
   "source": [
    "# Jupyter Notebook Conversion to Python Script\n",
    "#################################################"
   ]
  },
  {
   "cell_type": "code",
   "execution_count": 1,
   "metadata": {},
   "outputs": [],
   "source": [
    "# Import dependencies and setup\n",
    "\n",
    "from splinter import Browser\n",
    "from bs4 import BeautifulSoup\n",
    "import pandas as pd\n",
    "import datetime as dt\n",
    "import re\n",
    "import time\n",
    "import requests"
   ]
  },
  {
   "cell_type": "code",
   "execution_count": 2,
   "metadata": {},
   "outputs": [],
   "source": [
    "# Set Executable Path & Initialize Chrome Browser\n",
    "\n",
    "executable_path = {'executable_path': '/usr/local/bin/chromedriver'}\n",
    "browser = Browser('chrome', **executable_path, headless=False)"
   ]
  },
  {
   "cell_type": "code",
   "execution_count": null,
   "metadata": {},
   "outputs": [],
   "source": [
    "#################################################\n",
    "# NASA Mars News\n",
    "#################################################"
   ]
  },
  {
   "cell_type": "code",
   "execution_count": 3,
   "metadata": {},
   "outputs": [],
   "source": [
    "# NASA Mars News Site Web Scraper\n",
    "def mars_news(browser):\n",
    "    # Visit the NASA Mars News Site\n",
    "    url = \"https://mars.nasa.gov/news/\"\n",
    "    browser.visit(url)"
   ]
  },
  {
   "cell_type": "code",
   "execution_count": null,
   "metadata": {},
   "outputs": [],
   "source": [
    "# Get First List Item & Wait Half a Second If Not Immediately Present\n",
    "    browser.is_element_present_by_css(\"ul.item_list li.slide\", wait_time=0.5)"
   ]
  },
  {
   "cell_type": "code",
   "execution_count": null,
   "metadata": {},
   "outputs": [],
   "source": [
    "    html = browser.html\n",
    "        news_soup = BeautifulSoup(html, \"html.parser\")"
   ]
  },
  {
   "cell_type": "code",
   "execution_count": null,
   "metadata": {},
   "outputs": [],
   "source": [
    "# Parse Results HTML with BeautifulSoup\n",
    "    # Find Everything Inside:\n",
    "    #   <ul class=\"item_list\">\n",
    "    #     <li class=\"slide\">\n",
    "    try:\n",
    "        slide_element = news_soup.select_one(\"ul.item_list li.slide\")\n",
    "        slide_element.find(\"div\", class_=\"content_title\")\n",
    "\n",
    "        # Scrape the Latest News Title\n",
    "        # Use Parent Element to Find First <a> Tag and Save it as news_title\n",
    "        news_title = slide_element.find(\"div\", class_=\"content_title\").get_text()\n",
    "\n",
    "        news_paragraph = slide_element.find(\"div\", class_=\"article_teaser_body\").get_text()\n",
    "    except AttributeError:\n",
    "        return None, None\n",
    "    return news_title, news_paragraph"
   ]
  },
  {
   "cell_type": "code",
   "execution_count": null,
   "metadata": {},
   "outputs": [],
   "source": [
    "#################################################\n",
    "# JPL Mars Space Images - Featured Image\n",
    "#################################################"
   ]
  },
  {
   "cell_type": "code",
   "execution_count": null,
   "metadata": {},
   "outputs": [],
   "source": [
    "# NASA JPL (Jet Propulsion Laboratory) Site Web Scraper\n",
    "def featured_image(browser):\n",
    "    # Visit the NASA JPL (Jet Propulsion Laboratory) Site\n",
    "    url = \"https://www.jpl.nasa.gov/spaceimages/?search=&category=Mars\"\n",
    "    browser.visit(url)"
   ]
  },
  {
   "cell_type": "code",
   "execution_count": null,
   "metadata": {},
   "outputs": [],
   "source": [
    "# Ask Splinter to Go to Site and Click Button with Class Name full_image\n",
    "    # <button class=\"full_image\">Full Image</button>\n",
    "    full_image_button = browser.find_by_id(\"full_image\")\n",
    "    full_image_button.click()"
   ]
  },
  {
   "cell_type": "code",
   "execution_count": null,
   "metadata": {},
   "outputs": [],
   "source": [
    "# Find \"More Info\" Button and Click It\n",
    "    browser.is_element_present_by_text(\"more info\", wait_time=1)\n",
    "    more_info_element = browser.find_link_by_partial_text(\"more info\")\n",
    "    more_info_element.click()"
   ]
  },
  {
   "cell_type": "code",
   "execution_count": null,
   "metadata": {},
   "outputs": [],
   "source": [
    "# Parse Results HTML with BeautifulSoup\n",
    "    html = browser.html\n",
    "    image_soup = BeautifulSoup(html, \"html.parser\")\n",
    "    \n",
    "    img = image_soup.select_one(\"figure.lede a img\")\n",
    "    try:\n",
    "        img_url = img.get(\"src\")\n",
    "    except AttributeError:\n",
    "        return None"
   ]
  },
  {
   "cell_type": "code",
   "execution_count": null,
   "metadata": {},
   "outputs": [],
   "source": [
    "# Use Base URL to Create Absolute URL\n",
    "    img_url = f\"https://www.jpl.nasa.gov{img_url}\"\n",
    "    return img_url"
   ]
  },
  {
   "cell_type": "code",
   "execution_count": null,
   "metadata": {},
   "outputs": [],
   "source": [
    "#################################################\n",
    "# Mars Weather\n",
    "#################################################"
   ]
  },
  {
   "cell_type": "code",
   "execution_count": null,
   "metadata": {},
   "outputs": [],
   "source": [
    "# Mars Weather Twitter Account Web Scraper\n",
    "def twitter_weather(browser):\n",
    "    # Visit the Mars Weather Twitter Account\n",
    "    url = \"https://twitter.com/marswxreport?lang=en\"\n",
    "    browser.visit(url)"
   ]
  },
  {
   "cell_type": "code",
   "execution_count": null,
   "metadata": {},
   "outputs": [],
   "source": [
    "# Parse Results HTML with BeautifulSoup\n",
    "    html = browser.html\n",
    "    weather_soup = BeautifulSoup(html, \"html.parser\")"
   ]
  },
  {
   "cell_type": "code",
   "execution_count": null,
   "metadata": {},
   "outputs": [],
   "source": [
    "# Find a Tweet with the name `Mars Weather` and extract weather info\n",
    "    time.sleep(5)\n",
    "    pattern = re.compile(r'InSight sol')\n",
    "    mars_weather = weather_soup.find('span', text=pattern).text\n",
    "    return mars_weather"
   ]
  },
  {
   "cell_type": "code",
   "execution_count": null,
   "metadata": {},
   "outputs": [],
   "source": [
    "#################################################\n",
    "# Mars Facts\n",
    "#################################################"
   ]
  },
  {
   "cell_type": "code",
   "execution_count": null,
   "metadata": {},
   "outputs": [],
   "source": [
    "# Mars Facts Web Scraper\n",
    "# Visit the Mars Facts Site Using Pandas to Read\n",
    "mars_facts = pd.read_html(url)[0]\n",
    "print(mars_facts)\n",
    "mars_facts.reset_index(inplace=True)\n",
    "mars_facts.columns=[\"ID\", \"Properties\", \"Mars\"]\n",
    "mars_facts"
   ]
  },
  {
   "cell_type": "code",
   "execution_count": null,
   "metadata": {},
   "outputs": [],
   "source": [
    "#################################################\n",
    "# Mars Hemispheres\n",
    "#################################################"
   ]
  },
  {
   "cell_type": "code",
   "execution_count": null,
   "metadata": {},
   "outputs": [],
   "source": [
    "# Mars Hemispheres Web Scraper\n",
    "def hemisphere(browser):\n",
    "    # Visit the USGS Astrogeology Science Center Site\n",
    "    url = \"https://astrogeology.usgs.gov/search/results?q=hemisphere+enhanced&k1=target&v1=Mars\"\n",
    "    browser.visit(url)\n",
    "\n",
    "    hemisphere_image_urls = []"
   ]
  },
  {
   "cell_type": "code",
   "execution_count": null,
   "metadata": {},
   "outputs": [],
   "source": [
    "# Get a List of All the Hemisphere\n",
    "    links = browser.find_by_css(\"a.product-item h3\")\n",
    "    for item in range(len(links)):\n",
    "        hemisphere = {}"
   ]
  },
  {
   "cell_type": "code",
   "execution_count": null,
   "metadata": {},
   "outputs": [],
   "source": [
    "# Find Element on Each Loop to Avoid a Stale Element Exception\n",
    "        browser.find_by_css(\"a.product-item h3\")[item].click()"
   ]
  },
  {
   "cell_type": "code",
   "execution_count": null,
   "metadata": {},
   "outputs": [],
   "source": [
    "# Find Sample Image Anchor Tag & Extract <href>\n",
    "        sample_element = browser.find_link_by_text(\"Sample\").first\n",
    "        hemisphere[\"img_url\"] = sample_element[\"href\"]"
   ]
  },
  {
   "cell_type": "code",
   "execution_count": null,
   "metadata": {},
   "outputs": [],
   "source": [
    "# Get Hemisphere Title\n",
    "        hemisphere[\"title\"] = browser.find_by_css(\"h2.title\").text"
   ]
  },
  {
   "cell_type": "code",
   "execution_count": null,
   "metadata": {},
   "outputs": [],
   "source": [
    "# Append Hemisphere Object to List\n",
    "        hemisphere_image_urls.append(hemisphere)"
   ]
  },
  {
   "cell_type": "code",
   "execution_count": null,
   "metadata": {},
   "outputs": [],
   "source": [
    "# Navigate Backwards\n",
    "        browser.back()\n",
    "    return hemisphere_image_urls"
   ]
  },
  {
   "cell_type": "code",
   "execution_count": null,
   "metadata": {},
   "outputs": [],
   "source": [
    "# Helper Function\n",
    "def scrape_hemisphere(html_text):\n",
    "    hemisphere_soup = BeautifulSoup(html_text, \"html.parser\")\n",
    "    try: \n",
    "        title_element = hemisphere_soup.find(\"h2\", class_=\"title\").get_text()\n",
    "        sample_element = hemisphere_soup.find(\"a\", text=\"Sample\").get(\"href\")\n",
    "    except AttributeError:\n",
    "        title_element = None\n",
    "        sample_element = None \n",
    "    hemisphere = {\n",
    "        \"title\": title_element,\n",
    "        \"img_url\": sample_element\n",
    "    }\n",
    "    return hemisphere"
   ]
  },
  {
   "cell_type": "code",
   "execution_count": null,
   "metadata": {},
   "outputs": [],
   "source": [
    "#################################################\n",
    "# Scraping All\n",
    "#################################################"
   ]
  },
  {
   "cell_type": "code",
   "execution_count": null,
   "metadata": {},
   "outputs": [],
   "source": [
    "def scrape_all():\n",
    "    executable_path = {\"executable_path\": \"/Users/jorgesanchez/Downloads/chromedriver\"}\n",
    "    browser = Browser(\"chrome\", **executable_path, headless=False)\n",
    "    news_title, news_paragraph = mars_news(browser)\n",
    "    img_url = featured_image(browser)\n",
    "    mars_weather = twitter_weather(browser)\n",
    "    facts = mars_facts\n",
    "    hemisphere_image_urls = hemisphere(browser)\n",
    "    timestamp = dt.datetime.now()"
   ]
  },
  {
   "cell_type": "code",
   "execution_count": null,
   "metadata": {},
   "outputs": [],
   "source": [
    "data = {\n",
    "        \"news_title\": news_title,\n",
    "        \"news_paragraph\": news_paragraph,\n",
    "        \"featured_image\": img_url,\n",
    "        \"weather\": mars_weather,\n",
    "        \"facts\": facts,\n",
    "        \"hemispheres\": hemisphere_image_urls,\n",
    "        \"last_modified\": timestamp\n",
    "    }\n",
    "    browser.quit()\n",
    "    return data"
   ]
  },
  {
   "cell_type": "code",
   "execution_count": null,
   "metadata": {},
   "outputs": [],
   "source": [
    "if __name__ == \"__main__\":\n",
    "    print(scrape_all())"
   ]
  }
 ],
 "metadata": {
  "kernelspec": {
   "display_name": "Python 3",
   "language": "python",
   "name": "python3"
  },
  "language_info": {
   "codemirror_mode": {
    "name": "ipython",
    "version": 3
   },
   "file_extension": ".py",
   "mimetype": "text/x-python",
   "name": "python",
   "nbconvert_exporter": "python",
   "pygments_lexer": "ipython3",
   "version": "3.7.4"
  }
 },
 "nbformat": 4,
 "nbformat_minor": 2
}
